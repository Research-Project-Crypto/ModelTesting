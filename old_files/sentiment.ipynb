{
 "cells": [
  {
   "cell_type": "code",
   "execution_count": 4,
   "metadata": {},
   "outputs": [
    {
     "name": "stderr",
     "output_type": "stream",
     "text": [
      "Downloading: 100%|██████████| 687/687 [00:00<00:00, 437kB/s]\n",
      "Downloading: 100%|██████████| 1.32G/1.32G [00:40<00:00, 34.9MB/s]\n",
      "Downloading: 100%|██████████| 256/256 [00:00<00:00, 368kB/s]\n",
      "Downloading: 100%|██████████| 780k/780k [00:00<00:00, 1.70MB/s]\n",
      "Downloading: 100%|██████████| 446k/446k [00:00<00:00, 971kB/s] \n",
      "Downloading: 100%|██████████| 150/150 [00:00<00:00, 95.0kB/s]\n"
     ]
    },
    {
     "name": "stdout",
     "output_type": "stream",
     "text": [
      "[{'label': 'POSITIVE', 'score': 0.9988656044006348}]\n"
     ]
    }
   ],
   "source": [
    "from transformers import pipeline\n",
    "sentiment_analysis = pipeline(\"sentiment-analysis\",model=\"siebert/sentiment-roberta-large-english\")\n",
    "print(sentiment_analysis(\"I love this!\"))"
   ]
  },
  {
   "cell_type": "code",
   "execution_count": 28,
   "metadata": {},
   "outputs": [
    {
     "name": "stdout",
     "output_type": "stream",
     "text": [
      "[{'label': 'POSITIVE', 'score': 0.9986323714256287}]\n"
     ]
    }
   ],
   "source": [
    "import re\n",
    "input_string = \"\"\"There’s no denying that 2021 was the Lightning Network’s year. What does the future hold, though? If the objective is to onboard the next billion people, the network needs work and fine-tuning. To grab the bull by the horns, The Human Rights Foundation and Strike set up three 1 BTC bounties.  The bounties will go to the first person or team to develop an anonymous Lightning tip jar, a tokenless way to peg BTC to dollars, or a privacy-focused wallet that supports some kind of Chaumian e-cash feature. In a Twitter Spaces conversation about the program, they named it The Lightning Development Initiative.  A catchy name that we’ll use from now on to refer to all of this. This fourth edition of Lightning Speed is all about the future. Let’s explore the three ideas and the new information that we have about each of them. The Lightning Development Initiative In Twitter Spaces Among the speakers were Strike’s Jack Mallers, The Human Rights Foundation’s Alex Gladstein, Bitcoin Magazine’s Christian Keroles AKA CK Snarks, and Tales From The Crypt’s Matt Odell. It took place on December 29th and Bitcoin Magazine hosted it. A Twitter user named Gigi summarized it for us. 🚨 A thread summarizing the Lightning Développement Initiative Space ⬇️ 3 amazingly interesting topic related to the bounties were discussed. I'm so bullish on Lightning⚡ it hurts.\"\"\"\n",
    "regex = re.compile(r'<.*?>')\n",
    "processed_string = regex.sub('', input_string)\n",
    "# print(processed_string)\n",
    "print(sentiment_analysis(processed_string))"
   ]
  },
  {
   "cell_type": "code",
   "execution_count": null,
   "metadata": {},
   "outputs": [],
   "source": []
  }
 ],
 "metadata": {
  "interpreter": {
   "hash": "e7370f93d1d0cde622a1f8e1c04877d8463912d04d973331ad4851f04de6915a"
  },
  "kernelspec": {
   "display_name": "Python 3.10.1 64-bit",
   "language": "python",
   "name": "python3"
  },
  "language_info": {
   "codemirror_mode": {
    "name": "ipython",
    "version": 3
   },
   "file_extension": ".py",
   "mimetype": "text/x-python",
   "name": "python",
   "nbconvert_exporter": "python",
   "pygments_lexer": "ipython3",
   "version": "3.10.1"
  },
  "orig_nbformat": 4
 },
 "nbformat": 4,
 "nbformat_minor": 2
}
