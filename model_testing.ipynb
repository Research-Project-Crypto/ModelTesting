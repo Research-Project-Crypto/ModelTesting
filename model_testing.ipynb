{
 "cells": [
  {
   "cell_type": "code",
   "execution_count": 1,
   "metadata": {},
   "outputs": [
    {
     "name": "stderr",
     "output_type": "stream",
     "text": [
      "2022-01-29 17:24:19.890953: I tensorflow/stream_executor/cuda/cuda_gpu_executor.cc:939] successful NUMA node read from SysFS had negative value (-1), but there must be at least one NUMA node, so returning NUMA node zero\n",
      "2022-01-29 17:24:19.923376: I tensorflow/stream_executor/cuda/cuda_gpu_executor.cc:939] successful NUMA node read from SysFS had negative value (-1), but there must be at least one NUMA node, so returning NUMA node zero\n",
      "2022-01-29 17:24:19.923571: I tensorflow/stream_executor/cuda/cuda_gpu_executor.cc:939] successful NUMA node read from SysFS had negative value (-1), but there must be at least one NUMA node, so returning NUMA node zero\n"
     ]
    }
   ],
   "source": [
    "import numpy as np\n",
    "import time\n",
    "import os\n",
    "\n",
    "import matplotlib.pyplot as plt\n",
    "import pandas as pd\n",
    "import random\n",
    "\n",
    "import json\n",
    "\n",
    "import keras\n",
    "from sklearn.metrics import confusion_matrix, accuracy_score, classification_report\n",
    "import tensorflow as tf\n",
    "from tensorflow.keras import models\n",
    "\n",
    "os.environ[\"KERAS_BACKEND\"] = \"tensorflow\"\n",
    "os.environ[\"TF_ENABLE_GPU_GARBAGE_COLLECTION\"] = 'false'\n",
    "os.environ[\"TF_GPU_ALLOCATOR\"] = \"cuda_malloc_async\"\n",
    "\n",
    "physical_devices = tf.config.experimental.list_physical_devices('GPU')\n",
    "tf.config.experimental.set_memory_growth(physical_devices[0], False)\n",
    "\n",
    "DEBUG = False"
   ]
  },
  {
   "cell_type": "code",
   "execution_count": 7,
   "metadata": {},
   "outputs": [],
   "source": [
    "column_names = ['timestamp','open','close','high','low','volume','adosc','atr','macd','macd_signal','macd_hist','mfi','upper_band','middle_band','lower_band','rsi','difference_low_high','difference_open_close','target']\n",
    "file = '/home/joren/Coding/cryptodata/Normalized_labelled/AAVEUSDT.bin'\n",
    "modelfile = 'models/model_tiny_3'\n",
    "frame_size = 240"
   ]
  },
  {
   "cell_type": "code",
   "execution_count": 8,
   "metadata": {},
   "outputs": [],
   "source": [
    "# load data\n",
    "field_info = [\n",
    "    { \"type\": np.uint64, \"count\": 1 },\n",
    "    { \"type\": np.double, \"count\": 17 },\n",
    "    { \"type\": np.int64, \"count\": 1 }\n",
    "]\n",
    "BYTES_EIGHT = 8\n",
    "\n",
    "def read_bin_full_file(file):\n",
    "    f = open(file, 'rb')\n",
    "    b = f.read(-1)\n",
    "\n",
    "    BYTES_TO_READ = 0\n",
    "    for field in field_info:\n",
    "        BYTES_TO_READ += BYTES_EIGHT * field[\"count\"]\n",
    "\n",
    "    data = []\n",
    "    BYTES_READ = 0\n",
    "    for i in range(0, int(os.path.getsize(file) / BYTES_TO_READ)):\n",
    "        row = []\n",
    "\n",
    "        for idx, field in enumerate(field_info):\n",
    "            row += np.frombuffer(b, dtype=field[\"type\"], count=field[\"count\"], offset=BYTES_READ).tolist()\n",
    "\n",
    "            BYTES_READ += BYTES_EIGHT * field[\"count\"]\n",
    "\n",
    "        data.append(row)\n",
    "    return np.array(data, dtype=np.float16)"
   ]
  },
  {
   "cell_type": "code",
   "execution_count": 9,
   "metadata": {},
   "outputs": [
    {
     "name": "stderr",
     "output_type": "stream",
     "text": [
      "2022-01-29 17:24:31.620761: I tensorflow/core/platform/cpu_feature_guard.cc:151] This TensorFlow binary is optimized with oneAPI Deep Neural Network Library (oneDNN) to use the following CPU instructions in performance-critical operations:  AVX2 FMA\n",
      "To enable them in other operations, rebuild TensorFlow with the appropriate compiler flags.\n",
      "2022-01-29 17:24:31.621257: I tensorflow/stream_executor/cuda/cuda_gpu_executor.cc:939] successful NUMA node read from SysFS had negative value (-1), but there must be at least one NUMA node, so returning NUMA node zero\n",
      "2022-01-29 17:24:31.621483: I tensorflow/stream_executor/cuda/cuda_gpu_executor.cc:939] successful NUMA node read from SysFS had negative value (-1), but there must be at least one NUMA node, so returning NUMA node zero\n",
      "2022-01-29 17:24:31.621628: I tensorflow/stream_executor/cuda/cuda_gpu_executor.cc:939] successful NUMA node read from SysFS had negative value (-1), but there must be at least one NUMA node, so returning NUMA node zero\n",
      "2022-01-29 17:24:32.117070: I tensorflow/stream_executor/cuda/cuda_gpu_executor.cc:939] successful NUMA node read from SysFS had negative value (-1), but there must be at least one NUMA node, so returning NUMA node zero\n",
      "2022-01-29 17:24:32.117245: I tensorflow/stream_executor/cuda/cuda_gpu_executor.cc:939] successful NUMA node read from SysFS had negative value (-1), but there must be at least one NUMA node, so returning NUMA node zero\n",
      "2022-01-29 17:24:32.117377: I tensorflow/stream_executor/cuda/cuda_gpu_executor.cc:939] successful NUMA node read from SysFS had negative value (-1), but there must be at least one NUMA node, so returning NUMA node zero\n",
      "2022-01-29 17:24:32.117478: I tensorflow/core/common_runtime/gpu/gpu_process_state.cc:214] Using CUDA malloc Async allocator for GPU: 0\n",
      "2022-01-29 17:24:32.117565: I tensorflow/core/common_runtime/gpu/gpu_device.cc:1525] Created device /job:localhost/replica:0/task:0/device:GPU:0 with 4630 MB memory:  -> device: 0, name: NVIDIA GeForce RTX 2060, pci bus id: 0000:01:00.0, compute capability: 7.5\n"
     ]
    }
   ],
   "source": [
    "# load model\n",
    "model = models.load_model(modelfile)"
   ]
  },
  {
   "cell_type": "code",
   "execution_count": 10,
   "metadata": {},
   "outputs": [],
   "source": [
    "# train-test split\n",
    "def df_split(df):  \n",
    "    X = df.drop(columns=['timestamp','target'], axis=0).to_numpy()\n",
    "    Y = df['target'].to_numpy()\n",
    "\n",
    "    X_test = []\n",
    "    y_test = []\n",
    "    for i in range(frame_size, X.shape[0]): \n",
    "        X_test.append(X[i-frame_size:i])\n",
    "        y_test.append(Y[i])\n",
    "    X_test, y_test = np.array(X_test, dtype=np.float16), np.array(y_test, dtype=np.float16)\n",
    "\n",
    "    return X_test, y_test"
   ]
  },
  {
   "cell_type": "code",
   "execution_count": 11,
   "metadata": {},
   "outputs": [],
   "source": [
    "## prepare data for prediction\n",
    "data = read_bin_full_file(file)\n",
    "df2 = pd.DataFrame(data, columns=column_names)\n",
    "df2.fillna(0, inplace=True)\n",
    "startloc = round(len(df2)*0.75)\n",
    "df = df2.iloc[startloc:]\n",
    "del(df2)"
   ]
  },
  {
   "cell_type": "code",
   "execution_count": 12,
   "metadata": {},
   "outputs": [],
   "source": [
    "X_test, y_test = df_split(df)"
   ]
  },
  {
   "cell_type": "code",
   "execution_count": 13,
   "metadata": {},
   "outputs": [
    {
     "name": "stderr",
     "output_type": "stream",
     "text": [
      "2022-01-29 17:24:40.639171: W tensorflow/core/framework/cpu_allocator_impl.cc:82] Allocation of 2037715200 exceeds 10% of free system memory.\n",
      "2022-01-29 17:24:41.734557: W tensorflow/core/framework/cpu_allocator_impl.cc:82] Allocation of 2037715200 exceeds 10% of free system memory.\n",
      "2022-01-29 17:24:43.758114: I tensorflow/stream_executor/cuda/cuda_dnn.cc:366] Loaded cuDNN version 8300\n"
     ]
    },
    {
     "name": "stdout",
     "output_type": "stream",
     "text": [
      "\n",
      "Class. report:\n",
      "              precision    recall  f1-score   support\n",
      "\n",
      "         0.0       1.00      0.56      0.72    124121\n",
      "         1.0       0.01      0.91      0.02       370\n",
      "         2.0       0.01      0.88      0.02       369\n",
      "\n",
      "    accuracy                           0.56    124860\n",
      "   macro avg       0.34      0.78      0.26    124860\n",
      "weighted avg       0.99      0.56      0.71    124860\n",
      "\n",
      "\n",
      "[[69613 27208 27300]\n",
      " [   35   335     0]\n",
      " [   45     0   324]]\n",
      "56.28063431042768\n"
     ]
    }
   ],
   "source": [
    "## predict\n",
    "y_pred = np.array(model.predict(X_test), dtype=np.float16)\n",
    "\n",
    "y_pred = np.argmax(y_pred, axis=-1, keepdims=True)\n",
    "y_pred = y_pred.flatten()\n",
    "\n",
    "print(f\"\"\"\n",
    "Class. report:\n",
    "{classification_report(y_test, y_pred)}\n",
    "\"\"\")\n",
    "cf = confusion_matrix(y_test, y_pred)\n",
    "print(cf)\n",
    "print(accuracy_score(y_test, y_pred) * 100)"
   ]
  },
  {
   "cell_type": "code",
   "execution_count": 14,
   "metadata": {},
   "outputs": [],
   "source": [
    "df = df.iloc[frame_size:]\n",
    "df['predictions'] = np.array(y_pred)"
   ]
  },
  {
   "cell_type": "code",
   "execution_count": 15,
   "metadata": {},
   "outputs": [
    {
     "name": "stdout",
     "output_type": "stream",
     "text": [
      "        timestamp      open     close      high       low    volume     adosc  \\\n",
      "375540        inf -0.002361  0.000229  0.000876 -0.001793  4.398438 -0.018082   \n",
      "375541        inf -0.000038  0.000457 -0.000609 -0.000419 -0.301025  0.001405   \n",
      "375542        inf  0.000343  0.001373  0.000495  0.000954 -0.122681  0.026169   \n",
      "375543        inf  0.001335 -0.000839 -0.000381 -0.000343 -0.270752  0.141235   \n",
      "375544        inf -0.001029 -0.001826 -0.000494 -0.000724  0.775391  0.149292   \n",
      "\n",
      "             atr      macd  macd_signal  macd_hist       mfi  upper_band  \\\n",
      "375540 -0.000235 -0.169189    -0.580566   0.007973  0.445068    0.000397   \n",
      "375541 -0.007648 -0.242554    -0.403809  -0.142700  0.444092    0.000345   \n",
      "375542  0.012115 -0.135742    -0.288330  -0.003468  0.459473    0.000352   \n",
      "375543  0.001095  0.029999    -0.179077   0.321777  0.409668    0.000227   \n",
      "375544 -0.007912  0.090332    -0.102966   0.559570  0.414795    0.000412   \n",
      "\n",
      "        middle_band  lower_band       rsi  difference_low_high  \\\n",
      "375540     0.000283    0.000168  0.489990             0.004433   \n",
      "375541     0.000331    0.000317  0.460205             0.001755   \n",
      "375542     0.000304    0.000255  0.435791             0.001945   \n",
      "375543     0.000180    0.000132  0.435791             0.002405   \n",
      "375544     0.000191   -0.000031  0.454834             0.002441   \n",
      "\n",
      "        difference_open_close  target  predictions  \n",
      "375540               0.002481     0.0            2  \n",
      "375541              -0.000114     0.0            2  \n",
      "375542              -0.000609     0.0            2  \n",
      "375543              -0.001638     0.0            0  \n",
      "375544               0.000534     0.0            0  \n"
     ]
    }
   ],
   "source": [
    "print(df.head())"
   ]
  },
  {
   "cell_type": "code",
   "execution_count": 16,
   "metadata": {},
   "outputs": [
    {
     "name": "stdout",
     "output_type": "stream",
     "text": [
      "2.140297293663025\n"
     ]
    }
   ],
   "source": [
    "# calculate profit/loss\n",
    "total_percentage_raw = 0\n",
    "percentage = 0\n",
    "position = 0\n",
    "\n",
    "for index, row in df.iterrows():\n",
    "\n",
    "    if position == 1:\n",
    "        percentage += row['close']\n",
    "\n",
    "    if row['predictions'] == 1:\n",
    "        position = 1\n",
    "    elif row['predictions'] == 2:\n",
    "        position = 0\n",
    "        # if percentage > 0:\n",
    "        #     print(f'profit: {percentage}')\n",
    "        # elif percentage < 0:\n",
    "        #     print(f'loss: {percentage}')\n",
    "        total_percentage_raw += percentage\n",
    "        percentage = 0\n",
    "\n",
    "print(total_percentage_raw)\n",
    "    "
   ]
  },
  {
   "cell_type": "code",
   "execution_count": 17,
   "metadata": {},
   "outputs": [
    {
     "name": "stdout",
     "output_type": "stream",
     "text": [
      "0.45717912912368774\n"
     ]
    }
   ],
   "source": [
    "# calculate profit/loss with skip\n",
    "total_percentage_skip = 0\n",
    "percentage = 0\n",
    "position = 0\n",
    "skip_buy = 0\n",
    "skip_sell = 0\n",
    "skipcounter = 2\n",
    "\n",
    "for index, row in df.iterrows():\n",
    "\n",
    "    if position == 1:\n",
    "        percentage += row['close']\n",
    "\n",
    "    if row['predictions'] == 1:\n",
    "        if skip_buy == skipcounter:\n",
    "            position = 1\n",
    "            skip_buy = 0\n",
    "        skip_buy += 1\n",
    "    elif row['predictions'] == 2:\n",
    "        if skip_sell == skipcounter:\n",
    "            skip_sell = 0\n",
    "            position = 0\n",
    "            # if percentage > 0:\n",
    "            #     print(f'profit: {percentage}')\n",
    "            # elif percentage < 0:\n",
    "            #     print(f'loss: {percentage}')\n",
    "            total_percentage_skip += percentage\n",
    "            percentage = 0\n",
    "        skip_sell += 1\n",
    "\n",
    "print(total_percentage_skip)"
   ]
  },
  {
   "cell_type": "code",
   "execution_count": 18,
   "metadata": {},
   "outputs": [
    {
     "name": "stdout",
     "output_type": "stream",
     "text": [
      "0.23173236846923828\n"
     ]
    }
   ],
   "source": [
    "# calculate profit/loss\n",
    "total_percentage_profit_only = 0\n",
    "percentage = 0\n",
    "position = 0\n",
    "\n",
    "for index, row in df.iterrows():\n",
    "\n",
    "    if position == 1:\n",
    "        percentage += row['close']\n",
    "\n",
    "    if row['predictions'] == 1:\n",
    "        position = 1\n",
    "    elif row['predictions'] == 2:\n",
    "        if percentage > 0.01:\n",
    "            # print(f'profit: {percentage}')\n",
    "            total_percentage_profit_only += percentage\n",
    "            percentage = 0\n",
    "            position = 0\n",
    "        \n",
    "\n",
    "print(total_percentage_profit_only)\n",
    "    "
   ]
  },
  {
   "cell_type": "code",
   "execution_count": 19,
   "metadata": {},
   "outputs": [],
   "source": [
    "# save output results to json\n",
    "\n",
    "with open('test_results/model_tests.json', 'r') as openfile:\n",
    "    # Reading from json file\n",
    "    json_object = json.load(openfile)\n",
    "\n",
    "dictionary ={\n",
    "    \"file\" : file,\n",
    "    \"model\" : modelfile,\n",
    "    \"skipcounter\": skipcounter,\n",
    "    \"total_percentage_raw\" : total_percentage_raw,\n",
    "    \"total_percentage_skip\" : total_percentage_skip,\n",
    "    \"total_percentage_profit_only\": total_percentage_profit_only\n",
    "}\n",
    "\n",
    "# new_object = json.dumps(dictionary, indent = 4)\n",
    "json_object['results'].append(dictionary)\n",
    "json_object = json.dumps(json_object, indent = 4)\n",
    "with open(\"test_results/model_tests.json\", \"w\") as outfile:\n",
    "    outfile.write(json_object)"
   ]
  },
  {
   "cell_type": "code",
   "execution_count": null,
   "metadata": {},
   "outputs": [],
   "source": []
  },
  {
   "cell_type": "code",
   "execution_count": null,
   "metadata": {},
   "outputs": [],
   "source": []
  }
 ],
 "metadata": {
  "interpreter": {
   "hash": "e7370f93d1d0cde622a1f8e1c04877d8463912d04d973331ad4851f04de6915a"
  },
  "kernelspec": {
   "display_name": "Python 3.10.1 64-bit",
   "language": "python",
   "name": "python3"
  },
  "language_info": {
   "codemirror_mode": {
    "name": "ipython",
    "version": 3
   },
   "file_extension": ".py",
   "mimetype": "text/x-python",
   "name": "python",
   "nbconvert_exporter": "python",
   "pygments_lexer": "ipython3",
   "version": "3.9.10"
  },
  "orig_nbformat": 4
 },
 "nbformat": 4,
 "nbformat_minor": 2
}
