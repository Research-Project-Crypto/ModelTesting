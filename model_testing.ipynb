{
 "cells": [
  {
   "cell_type": "code",
   "execution_count": 1,
   "metadata": {},
   "outputs": [
    {
     "name": "stderr",
     "output_type": "stream",
     "text": [
      "2022-01-31 17:47:38.162885: I tensorflow/stream_executor/cuda/cuda_gpu_executor.cc:939] successful NUMA node read from SysFS had negative value (-1), but there must be at least one NUMA node, so returning NUMA node zero\n",
      "2022-01-31 17:47:38.189545: I tensorflow/stream_executor/cuda/cuda_gpu_executor.cc:939] successful NUMA node read from SysFS had negative value (-1), but there must be at least one NUMA node, so returning NUMA node zero\n",
      "2022-01-31 17:47:38.189732: I tensorflow/stream_executor/cuda/cuda_gpu_executor.cc:939] successful NUMA node read from SysFS had negative value (-1), but there must be at least one NUMA node, so returning NUMA node zero\n"
     ]
    }
   ],
   "source": [
    "import numpy as np\n",
    "import time\n",
    "import os\n",
    "\n",
    "import matplotlib.pyplot as plt\n",
    "import pandas as pd\n",
    "import random\n",
    "\n",
    "import json\n",
    "\n",
    "import keras\n",
    "from sklearn.metrics import confusion_matrix, accuracy_score, classification_report\n",
    "import tensorflow as tf\n",
    "from tensorflow.keras import models\n",
    "\n",
    "os.environ[\"KERAS_BACKEND\"] = \"tensorflow\"\n",
    "os.environ[\"TF_ENABLE_GPU_GARBAGE_COLLECTION\"] = 'false'\n",
    "os.environ[\"TF_GPU_ALLOCATOR\"] = \"cuda_malloc_async\"\n",
    "\n",
    "physical_devices = tf.config.experimental.list_physical_devices('GPU')\n",
    "tf.config.experimental.set_memory_growth(physical_devices[0], False)\n",
    "\n",
    "DEBUG = False"
   ]
  },
  {
   "cell_type": "code",
   "execution_count": 2,
   "metadata": {},
   "outputs": [],
   "source": [
    "column_names = ['timestamp','open','close','high','low','volume','adosc','atr','macd','macd_signal','macd_hist','mfi','upper_band','middle_band','lower_band','rsi','difference_low_high','difference_open_close','target']\n",
    "file = '/home/joren/Coding/cryptodata/Normalized_labelled/FTTUSDT.bin'\n",
    "modelfile = 'models/model_small_10'\n",
    "frame_size = 320"
   ]
  },
  {
   "cell_type": "code",
   "execution_count": 3,
   "metadata": {},
   "outputs": [],
   "source": [
    "# load data\n",
    "field_info = [\n",
    "    { \"type\": np.uint64, \"count\": 1 },\n",
    "    { \"type\": np.double, \"count\": 17 },\n",
    "    { \"type\": np.int64, \"count\": 1 }\n",
    "]\n",
    "BYTES_EIGHT = 8\n",
    "\n",
    "def read_bin_full_file(file):\n",
    "    f = open(file, 'rb')\n",
    "    b = f.read(-1)\n",
    "\n",
    "    BYTES_TO_READ = 0\n",
    "    for field in field_info:\n",
    "        BYTES_TO_READ += BYTES_EIGHT * field[\"count\"]\n",
    "\n",
    "    data = []\n",
    "    BYTES_READ = 0\n",
    "    for i in range(0, int(os.path.getsize(file) / BYTES_TO_READ)):\n",
    "        row = []\n",
    "\n",
    "        for idx, field in enumerate(field_info):\n",
    "            row += np.frombuffer(b, dtype=field[\"type\"], count=field[\"count\"], offset=BYTES_READ).tolist()\n",
    "\n",
    "            BYTES_READ += BYTES_EIGHT * field[\"count\"]\n",
    "\n",
    "        data.append(row)\n",
    "    return np.array(data, dtype=np.float16)"
   ]
  },
  {
   "cell_type": "code",
   "execution_count": 4,
   "metadata": {},
   "outputs": [
    {
     "name": "stderr",
     "output_type": "stream",
     "text": [
      "2022-01-31 17:47:38.509397: I tensorflow/core/platform/cpu_feature_guard.cc:151] This TensorFlow binary is optimized with oneAPI Deep Neural Network Library (oneDNN) to use the following CPU instructions in performance-critical operations:  AVX2 FMA\n",
      "To enable them in other operations, rebuild TensorFlow with the appropriate compiler flags.\n",
      "2022-01-31 17:47:38.510341: I tensorflow/stream_executor/cuda/cuda_gpu_executor.cc:939] successful NUMA node read from SysFS had negative value (-1), but there must be at least one NUMA node, so returning NUMA node zero\n",
      "2022-01-31 17:47:38.510610: I tensorflow/stream_executor/cuda/cuda_gpu_executor.cc:939] successful NUMA node read from SysFS had negative value (-1), but there must be at least one NUMA node, so returning NUMA node zero\n",
      "2022-01-31 17:47:38.510755: I tensorflow/stream_executor/cuda/cuda_gpu_executor.cc:939] successful NUMA node read from SysFS had negative value (-1), but there must be at least one NUMA node, so returning NUMA node zero\n",
      "2022-01-31 17:47:39.060394: I tensorflow/stream_executor/cuda/cuda_gpu_executor.cc:939] successful NUMA node read from SysFS had negative value (-1), but there must be at least one NUMA node, so returning NUMA node zero\n",
      "2022-01-31 17:47:39.060583: I tensorflow/stream_executor/cuda/cuda_gpu_executor.cc:939] successful NUMA node read from SysFS had negative value (-1), but there must be at least one NUMA node, so returning NUMA node zero\n",
      "2022-01-31 17:47:39.060718: I tensorflow/stream_executor/cuda/cuda_gpu_executor.cc:939] successful NUMA node read from SysFS had negative value (-1), but there must be at least one NUMA node, so returning NUMA node zero\n",
      "2022-01-31 17:47:39.060822: I tensorflow/core/common_runtime/gpu/gpu_process_state.cc:214] Using CUDA malloc Async allocator for GPU: 0\n",
      "2022-01-31 17:47:39.060908: I tensorflow/core/common_runtime/gpu/gpu_device.cc:1525] Created device /job:localhost/replica:0/task:0/device:GPU:0 with 4630 MB memory:  -> device: 0, name: NVIDIA GeForce RTX 2060, pci bus id: 0000:01:00.0, compute capability: 7.5\n"
     ]
    }
   ],
   "source": [
    "# load model\n",
    "model = models.load_model(modelfile)"
   ]
  },
  {
   "cell_type": "code",
   "execution_count": 5,
   "metadata": {},
   "outputs": [],
   "source": [
    "# train-test split\n",
    "def df_split(df):  \n",
    "    X = df.drop(columns=['timestamp','target'], axis=0).to_numpy()\n",
    "    Y = df['target'].to_numpy()\n",
    "\n",
    "    X_test = []\n",
    "    y_test = []\n",
    "    for i in range(frame_size, X.shape[0]): \n",
    "        X_test.append(X[i-frame_size:i])\n",
    "        y_test.append(Y[i])\n",
    "    X_test, y_test = np.array(X_test, dtype=np.float16), np.array(y_test, dtype=np.float16)\n",
    "\n",
    "    return X_test, y_test"
   ]
  },
  {
   "cell_type": "code",
   "execution_count": 6,
   "metadata": {},
   "outputs": [],
   "source": [
    "## prepare data for prediction\n",
    "data = read_bin_full_file(file)\n",
    "df2 = pd.DataFrame(data, columns=column_names)\n",
    "df2.fillna(0, inplace=True)\n",
    "startloc = round(len(df2)*0.98)\n",
    "df = df2.iloc[startloc:]\n",
    "# df = df.iloc[round(len(df)*0.74):-2000]\n",
    "del(df2)"
   ]
  },
  {
   "cell_type": "code",
   "execution_count": 7,
   "metadata": {},
   "outputs": [],
   "source": [
    "X_test, y_test = df_split(df)"
   ]
  },
  {
   "cell_type": "code",
   "execution_count": 8,
   "metadata": {},
   "outputs": [
    {
     "name": "stderr",
     "output_type": "stream",
     "text": [
      "2022-01-31 17:48:04.957745: I tensorflow/stream_executor/cuda/cuda_dnn.cc:366] Loaded cuDNN version 8300\n"
     ]
    },
    {
     "name": "stdout",
     "output_type": "stream",
     "text": [
      "\n",
      "Class. report:\n",
      "              precision    recall  f1-score   support\n",
      "\n",
      "         0.0       1.00      0.56      0.72     14944\n",
      "         1.0       0.01      0.85      0.01        47\n",
      "         2.0       0.01      0.26      0.02        47\n",
      "\n",
      "    accuracy                           0.56     15038\n",
      "   macro avg       0.34      0.56      0.25     15038\n",
      "weighted avg       0.99      0.56      0.71     15038\n",
      "\n",
      "\n",
      "[[8386 5644  914]\n",
      " [   7   40    0]\n",
      " [  32    3   12]]\n",
      "56.11118499800506\n"
     ]
    }
   ],
   "source": [
    "## predict\n",
    "y_pred = np.array(model.predict(X_test), dtype=np.float16)\n",
    "\n",
    "y_pred = np.argmax(y_pred, axis=-1)\n",
    "y_pred = y_pred.flatten()\n",
    "\n",
    "print(f\"\"\"\n",
    "Class. report:\n",
    "{classification_report(y_test, y_pred)}\n",
    "\"\"\")\n",
    "cf = confusion_matrix(y_test, y_pred)\n",
    "print(cf)\n",
    "print(accuracy_score(y_test, y_pred) * 100)"
   ]
  },
  {
   "cell_type": "code",
   "execution_count": 9,
   "metadata": {},
   "outputs": [],
   "source": [
    "df = df.iloc[frame_size:]\n",
    "df['predictions'] = np.array(y_pred)"
   ]
  },
  {
   "cell_type": "code",
   "execution_count": 10,
   "metadata": {},
   "outputs": [
    {
     "name": "stdout",
     "output_type": "stream",
     "text": [
      "        timestamp      open     close      high       low    volume     adosc  \\\n",
      "691421        inf -0.000140  0.000245  0.000088 -0.000281 -0.641602 -0.064026   \n",
      "691422        inf  0.000228 -0.001366 -0.001294 -0.000719 -0.749023 -0.051758   \n",
      "691423        inf -0.001471 -0.000787 -0.001328 -0.001471  1.749023 -0.047974   \n",
      "691424        inf -0.001311 -0.000472 -0.000506 -0.000175  2.183594 -0.044250   \n",
      "691425        inf -0.001101 -0.002216 -0.001238 -0.001608 -0.282227 -0.036255   \n",
      "\n",
      "             atr      macd  macd_signal  macd_hist       mfi  upper_band  \\\n",
      "691421 -0.001392 -0.018478    -0.034943   0.099365  0.649414    0.000116   \n",
      "691422  0.012817  0.015198    -0.023956   0.423828  0.568359    0.000100   \n",
      "691423  0.019211  0.070740    -0.004669   4.109375  0.548828   -0.000071   \n",
      "691424  0.025391  0.048340     0.005692  -1.825195  0.616699   -0.000471   \n",
      "691425  0.012566  0.079041     0.019241  -0.698242  0.602051   -0.000284   \n",
      "\n",
      "        middle_band  lower_band       rsi  difference_low_high  \\\n",
      "691421    -0.000126   -0.000368  0.561523             0.001930   \n",
      "691422    -0.000203   -0.000507  0.560059             0.001561   \n",
      "691423    -0.000140   -0.000209  0.583496             0.002138   \n",
      "691424    -0.000183    0.000105  0.540527             0.001995   \n",
      "691425    -0.000134    0.000016  0.531250             0.002327   \n",
      "\n",
      "        difference_open_close  target  predictions  \n",
      "691421               0.000158     0.0            1  \n",
      "691422              -0.000228     0.0            1  \n",
      "691423               0.001368     0.0            1  \n",
      "691424               0.000683     0.0            1  \n",
      "691425              -0.000157     0.0            2  \n"
     ]
    }
   ],
   "source": [
    "print(df.head())"
   ]
  },
  {
   "cell_type": "code",
   "execution_count": 11,
   "metadata": {},
   "outputs": [
    {
     "name": "stdout",
     "output_type": "stream",
     "text": [
      "2.629611849784851\n"
     ]
    }
   ],
   "source": [
    "# calculate profit/loss\n",
    "total_percentage_raw = 0\n",
    "percentage = 0\n",
    "position = 0\n",
    "\n",
    "for index, row in df.iterrows():\n",
    "\n",
    "    if position == 1:\n",
    "        percentage += row['close']\n",
    "\n",
    "    if row['predictions'] == 1:\n",
    "        position = 1\n",
    "    elif row['predictions'] == 2:\n",
    "        position = 0\n",
    "        # if percentage > 0:\n",
    "        #     print(f'profit: {percentage}')\n",
    "        # elif percentage < 0:\n",
    "        #     print(f'loss: {percentage}')\n",
    "        total_percentage_raw += percentage\n",
    "        percentage = 0\n",
    "\n",
    "print(total_percentage_raw)\n",
    "    "
   ]
  },
  {
   "cell_type": "code",
   "execution_count": 12,
   "metadata": {},
   "outputs": [
    {
     "name": "stdout",
     "output_type": "stream",
     "text": [
      "2.197593927383423\n"
     ]
    }
   ],
   "source": [
    "# calculate profit/loss with skip\n",
    "total_percentage_skip = 0\n",
    "percentage = 0\n",
    "position = 0\n",
    "skip_buy = 0\n",
    "skip_sell = 0\n",
    "skipcounter = 2\n",
    "\n",
    "for index, row in df.iterrows():\n",
    "\n",
    "    if position == 1:\n",
    "        percentage += row['close']\n",
    "\n",
    "    if row['predictions'] == 1:\n",
    "        if skip_buy == skipcounter:\n",
    "            position = 1\n",
    "            skip_buy = 0\n",
    "        skip_buy += 1\n",
    "    elif row['predictions'] == 2:\n",
    "        if skip_sell == skipcounter:\n",
    "            skip_sell = 0\n",
    "            position = 0\n",
    "            # if percentage > 0:\n",
    "            #     print(f'profit: {percentage}')\n",
    "            # elif percentage < 0:\n",
    "            #     print(f'loss: {percentage}')\n",
    "            total_percentage_skip += percentage\n",
    "            percentage = 0\n",
    "        skip_sell += 1\n",
    "\n",
    "print(total_percentage_skip)"
   ]
  },
  {
   "cell_type": "code",
   "execution_count": 13,
   "metadata": {},
   "outputs": [
    {
     "name": "stdout",
     "output_type": "stream",
     "text": [
      "1.0527297854423523\n"
     ]
    }
   ],
   "source": [
    "# calculate profit/loss only sell with profit\n",
    "total_percentage_profit_only = 0\n",
    "percentage = 0\n",
    "position = 0\n",
    "\n",
    "for index, row in df.iterrows():\n",
    "\n",
    "    if position >= 1:\n",
    "        percentage += row['close']\n",
    "\n",
    "    if row['predictions'] == 1:\n",
    "        position = 1\n",
    "    elif row['predictions'] == 2:\n",
    "        if percentage > 0.01:\n",
    "            # print(f'profit: {percentage}')\n",
    "            total_percentage_profit_only += percentage\n",
    "            percentage = 0\n",
    "            position = 0\n",
    "        \n",
    "\n",
    "print(total_percentage_profit_only)\n",
    "    "
   ]
  },
  {
   "cell_type": "code",
   "execution_count": 14,
   "metadata": {},
   "outputs": [],
   "source": [
    "# save output results to json\n",
    "\n",
    "with open('test_results/model_tests.json', 'r') as openfile:\n",
    "    # Reading from json file\n",
    "    json_object = json.load(openfile)\n",
    "\n",
    "dictionary ={\n",
    "    \"file\" : file,\n",
    "    \"model\" : modelfile,\n",
    "    # \"skipcounter\": skipcounter,\n",
    "    \"total_percentage_raw\" : total_percentage_raw\n",
    "    # \"total_percentage_skip\" : total_percentage_skip,\n",
    "    # \"total_percentage_profit_only\": total_percentage_profit_only\n",
    "}\n",
    "\n",
    "# new_object = json.dumps(dictionary, indent = 4)\n",
    "json_object['results'].append(dictionary)\n",
    "json_object = json.dumps(json_object, indent = 4)\n",
    "with open(\"test_results/model_tests.json\", \"w\") as outfile:\n",
    "    outfile.write(json_object)"
   ]
  },
  {
   "cell_type": "code",
   "execution_count": null,
   "metadata": {},
   "outputs": [],
   "source": []
  },
  {
   "cell_type": "code",
   "execution_count": null,
   "metadata": {},
   "outputs": [],
   "source": []
  }
 ],
 "metadata": {
  "interpreter": {
   "hash": "e7370f93d1d0cde622a1f8e1c04877d8463912d04d973331ad4851f04de6915a"
  },
  "kernelspec": {
   "display_name": "Python 3.10.1 64-bit",
   "language": "python",
   "name": "python3"
  },
  "language_info": {
   "codemirror_mode": {
    "name": "ipython",
    "version": 3
   },
   "file_extension": ".py",
   "mimetype": "text/x-python",
   "name": "python",
   "nbconvert_exporter": "python",
   "pygments_lexer": "ipython3",
   "version": "3.9.12"
  },
  "orig_nbformat": 4
 },
 "nbformat": 4,
 "nbformat_minor": 2
}
